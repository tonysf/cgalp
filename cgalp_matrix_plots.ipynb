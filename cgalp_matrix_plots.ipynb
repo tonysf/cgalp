{
 "cells": [
  {
   "cell_type": "code",
   "execution_count": 1,
   "metadata": {},
   "outputs": [],
   "source": [
    "import numpy as np\n",
    "import pylab as pl\n",
    "import scipy.sparse as sp\n",
    "import scipy.sparse.linalg as spl\n",
    "import scipy.stats as spst\n",
    "import scipy.special as spspec\n",
    "import time\n",
    "import cgal_functions as cf"
   ]
  },
  {
   "cell_type": "code",
   "execution_count": 2,
   "metadata": {},
   "outputs": [],
   "source": [
    "##########################\n",
    "# Parameters\n",
    "#  and\n",
    "# Initialization\n",
    "##########################\n",
    "\n",
    "#This variable is referenced for plotting and in the initial data\n",
    "eps = 0.0\n",
    "\n",
    "#n is the dim of the matrix\n",
    "n = 32\n",
    "\n",
    "#Creat a rank 2 sparse matrix Y with random entries uniformly in [-1,1]\n",
    "#specify the distribution\n",
    "rvs = spst.uniform(loc=-1, scale=2).rvs\n",
    "#choose a sparsity, higher = more nonzero entries\n",
    "sparsity = 0.1\n",
    "#generate sparse vector\n",
    "y = sp.random(n, 1, sparsity, data_rvs = rvs).A\n",
    "#exterior product for low rank sparse matrix\n",
    "Y = y.dot(y.transpose())\n",
    "\n",
    "#Perturb Y with a matrix with random entries uniformly in [-eps, eps]\n",
    "eps = 0.00\n",
    "#generate the perturbation matrix\n",
    "pert = eps * (sp.random(n, n, 1, data_rvs = rvs).A)\n",
    "#perturb Y\n",
    "Ypert = Y + pert\n",
    "\n",
    "#dens in [0,1], higher = more visible entries\n",
    "dens = 0.8\n",
    "#generate the mask and variables\n",
    "mask, mask_ind, rav_mask_ind = cf.mask_mat(Y, dens)\n",
    "#mask the matrix Ypert\n",
    "Yp_masked = cf.mask_op(Ypert, rav_mask_ind)\n",
    "\n",
    "toload = str(n)\n",
    "\n",
    "#apply the mask to Ypert\n",
    "Yp_masked = cf.mask_op(Ypert, rav_mask_ind)\n",
    "\n",
    "#nuc norm rad\n",
    "Y_nuc = np.linalg.norm(Ypert, ord='nuc')\n",
    "\n",
    "#l1 vec norm rad\n",
    "Y_l1 = np.linalg.norm(Ypert.flatten(), ord=1)\n",
    "\n",
    "#vector of norms\n",
    "Y_norm = np.array([Y_nuc, Y_l1])\n",
    "\n",
    "#vector of radii of balls\n",
    "delta =  0.5 * Y_norm\n",
    "\n",
    "itera = 100000\n",
    "\n"
   ]
  },
  {
   "cell_type": "code",
   "execution_count": 3,
   "metadata": {},
   "outputs": [],
   "source": [
    "##################\n",
    "# CGAL test\n",
    "##################\n",
    "\n",
    "#m is the number of components in product space for cgal\n",
    "m = 2\n",
    "\n",
    "#set initial variables for cgal\n",
    "prod_X = np.zeros((m, n, n))\n",
    "prod_Mu = np.zeros((m, n, n))\n",
    "\n",
    "#weights for product space for cgal\n",
    "omega0 = 0.5\n",
    "omega1 = 0.5\n",
    "omega = np.array([omega0, omega1])\n",
    "\n",
    "#weight for main objective function nu0|omega(x_1)-y|_1 + nu1|omega(x_2)-y|_1\n",
    "#for cgal\n",
    "nu0 = 0.5\n",
    "nu1 = 1-nu0\n",
    "nu = np.array([nu0, nu1])\n",
    "\n",
    "#run cgal once to get solutions\n",
    "sol_X, sol_Mu = cf.cgal(prod_X, prod_Mu, Yp_masked, mask, mask_ind, rav_mask_ind, omega, nu, delta, itera)\n",
    "\n",
    "#compute the lagrangian at the solution\n",
    "#sol_lagr = cf.lagrangian(sol_X, sol_Mu, Yp_masked, rav_mask_ind, omega, nu)\n",
    "\n",
    "#run cgal again collecting lagrangian values\n",
    "#cgal_prod_X, cgal_prod_Mu, lagr_vals = cf.cgal_lagr(prod_X, prod_Mu, sol_X, sol_Mu, Yp_masked, mask, mask_ind, rav_mask_ind, omega, nu, delta, itera)\n",
    "\n",
    "#compute the difference between lagrangians\n",
    "#lagr_vals = (lagr_vals - sol_lagr)/sol_lagr"
   ]
  },
  {
   "cell_type": "code",
   "execution_count": 4,
   "metadata": {},
   "outputs": [],
   "source": [
    "##################\n",
    "# GFB test\n",
    "##################\n",
    "\n",
    "\n",
    "#set initial variables for gfb\n",
    "gfb_X = np.zeros((m+1, n, n))\n",
    "\n",
    "#run gfb once to get solutions\n",
    "gfb_sol_X, gfb_prod_X = cf.gfb(gfb_X, Yp_masked, mask, mask_ind, rav_mask_ind, delta, itera/50)\n",
    "\n",
    "#compute the objective value at the last iterate of gfb\n",
    "sol_obj = np.linalg.norm(cf.mask_op(gfb_sol_X, rav_mask_ind) - Yp_masked, ord=1)\n",
    "\n",
    "#compute vstar from the solutions from gfb\n",
    "vstar = cf.vstarf(gfb_sol_X, gfb_prod_X)\n",
    "\n",
    "#reset initial variables\n",
    "ggg_X = np.zeros((m+1, n, n))\n",
    "\n",
    "#run gfb again but collect bregman divergence values\n",
    "ggg_sol_X, breg_vals= cf.gfb_breg(ggg_X, gfb_sol_X, sol_obj, vstar, Yp_masked, mask, mask_ind, rav_mask_ind, delta, itera/50)\n",
    "\n"
   ]
  },
  {
   "cell_type": "code",
   "execution_count": 23,
   "metadata": {
    "scrolled": false
   },
   "outputs": [
    {
     "data": {
      "image/png": "[encoded data removed]",
      "text/plain": [
       "<Figure size 432x288 with 1 Axes>"
      ]
     },
     "metadata": {
      "needs_background": "light"
     },
     "output_type": "display_data"
    },
    {
     "data": {
      "image/png": "[encoded data removed]",
      "text/plain": [
       "<Figure size 432x288 with 1 Axes>"
      ]
     },
     "metadata": {
      "needs_background": "light"
     },
     "output_type": "display_data"
    },
    {
     "data": {
      "image/png": "[encoded data removed]",
      "text/plain": [
       "<Figure size 432x288 with 2 Axes>"
      ]
     },
     "metadata": {
      "needs_background": "light"
     },
     "output_type": "display_data"
    },
    {
     "data": {
      "image/png": "[encoded data removed]",
      "text/plain": [
       "<Figure size 432x288 with 2 Axes>"
      ]
     },
     "metadata": {
      "needs_background": "light"
     },
     "output_type": "display_data"
    },
    {
     "name": "stdout",
     "output_type": "stream",
     "text": [
      "0.5825755015615525\n",
      "0.5532559369296104\n",
      "0.0\n",
      "0.0\n"
     ]
    },
    {
     "data": {
      "image/png": "[encoded data removed]",
      "text/plain": [
       "<Figure size 432x288 with 2 Axes>"
      ]
     },
     "metadata": {
      "needs_background": "light"
     },
     "output_type": "display_data"
    },
    {
     "data": {
      "image/png": "[encoded data removed]",
      "text/plain": [
       "<Figure size 432x288 with 2 Axes>"
      ]
     },
     "metadata": {
      "needs_background": "light"
     },
     "output_type": "display_data"
    }
   ],
   "source": [
    "#These variables help make the plot visually interpretable\n",
    "vmaxbuffer = .76\n",
    "vminbuffer = 0\n",
    "colorchoice = 'gist_gray_r'\n",
    "#Show the recovered \"image\" from CGALP\n",
    "pl.imshow(np.abs(0.5*(sol_X[0]+sol_X[1])), vmin = -(vminbuffer), vmax = vmaxbuffer + eps, cmap=colorchoice)\n",
    "pl.title(r'CGALP Solution, $k='+str(itera)+'$')\n",
    "#pl.savefig('NCGALP_'+toload+'_solution_erg.eps', bbox_inches='tight')\n",
    "pl.show()\n",
    "#Show the recovered \"image\" from GFB\n",
    "pl.imshow(np.abs(gfb_sol_X), vmin = -(vminbuffer), vmax = vmaxbuffer + eps, cmap=colorchoice)\n",
    "pl.title(r'GFB Solution, $k='+str(itera)+'$')\n",
    "#pl.savefig('NGFB_'+toload+'_solution_erg.eps', bbox_inches='tight')\n",
    "pl.show()\n",
    "#Show the ground truth\n",
    "pl.imshow(np.abs(Ypert), vmin = -(vminbuffer), vmax = vmaxbuffer + eps, cmap=colorchoice)\n",
    "pl.title('Ground truth')\n",
    "pl.colorbar()\n",
    "#pl.savefig('NCGALP_truth.eps', bbox_inches='tight')\n",
    "pl.show()\n",
    "pl.imshow(mask, vmin = 0, vmax = 1, cmap='gist_gray')\n",
    "pl.title('Masking operator, $\\Omega$')\n",
    "pl.colorbar()\n",
    "#pl.savefig('NCGALP_mask.eps', bbox_inches='tight')\n",
    "pl.show()\n",
    "\n",
    "avmaxbuffer = 0.66\n",
    "avminbuffer = 0\n",
    "pl.imshow(np.abs(0.5*(sol_X[0]+sol_X[1]) - Ypert), vmin = -(avminbuffer + eps), vmax = avmaxbuffer + eps, cmap=colorchoice)\n",
    "pl.title(r'CGALP Error, $k='+str(itera)+'$')\n",
    "pl.colorbar()\n",
    "#pl.savefig('NCGALP_error_'+toload+'_solution_erg', bbox_inches='tight')\n",
    "pl.show()\n",
    "pl.imshow(np.abs(gfb_sol_X - Ypert), vmin = -(avminbuffer + eps), vmax = avmaxbuffer + eps, cmap=colorchoice)\n",
    "pl.title(r'GFB Error, $k='+str(itera)+'$')\n",
    "pl.colorbar()\n",
    "#pl.savefig('NGFB_error_'+toload+'_solution_erg', bbox_inches='tight')\n",
    "pl.show()\n",
    "#flatmask = mask.flatten()\n",
    "#print(np.linalg.norm(flatmask, ord=1)/float(32**2))\n"
   ]
  }
 ],
 "metadata": {
  "kernelspec": {
   "display_name": "Python 2",
   "language": "python",
   "name": "python2"
  },
  "language_info": {
   "codemirror_mode": {
    "name": "ipython",
    "version": 2
   },
   "file_extension": ".py",
   "mimetype": "text/x-python",
   "name": "python",
   "nbconvert_exporter": "python",
   "pygments_lexer": "ipython2",
   "version": "2.7.17"
  }
 },
 "nbformat": 4,
 "nbformat_minor": 2
}
